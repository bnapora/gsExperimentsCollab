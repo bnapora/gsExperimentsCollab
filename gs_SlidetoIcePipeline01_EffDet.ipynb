{
 "cells": [
  {
   "cell_type": "markdown",
   "metadata": {},
   "source": [
    "## gs_SlidetoIcePipeline01_EffDet\n",
    "- Using latest version of icevision.  Need to modify 'parser_mixins.py' to include 'ParserMixin' as public class in header of file.\n",
    "- Included cell to do initial download of some slide. Uncomment after first download\n",
    "\n",
    "- Config paramerters are contained in lib_pipeline_ice_config.py\n",
    "\n",
    "- Install Order of WSI Dependencies:  \n",
    "    1) OpenSlide: apt-get install openslide-tools  \n",
    "    2) OpenSlide Python wrapper: pip install openslide-python  \n",
    "    3) SlideRunner: pip install SlideRunner (SlideRunner may have additional dependencies, install as arise.)\n"
   ]
  },
  {
   "cell_type": "code",
   "execution_count": null,
   "metadata": {
    "ExecuteTime": {
     "end_time": "2020-10-28T05:01:13.018770Z",
     "start_time": "2020-10-28T05:01:12.992121Z"
    }
   },
   "outputs": [],
   "source": [
    "%reload_ext autoreload\n",
    "%autoreload 2\n",
    "%matplotlib inline\n",
    "import warnings\n",
    "warnings.filterwarnings('ignore')"
   ]
  },
  {
   "cell_type": "code",
   "execution_count": null,
   "metadata": {
    "ExecuteTime": {
     "end_time": "2020-10-28T05:01:14.542767Z",
     "start_time": "2020-10-28T05:01:14.454977Z"
    }
   },
   "outputs": [],
   "source": [
    "import sqlite3\n",
    "from SlideRunner.dataAccess.database import Database\n",
    "from tqdm import tqdm\n",
    "from pathlib import Path\n",
    "import openslide\n",
    "import time\n",
    "import pdb\n",
    "\n",
    "from random import randint"
   ]
  },
  {
   "cell_type": "code",
   "execution_count": null,
   "metadata": {
    "ExecuteTime": {
     "end_time": "2020-10-28T05:01:15.897550Z",
     "start_time": "2020-10-28T05:01:15.111501Z"
    }
   },
   "outputs": [],
   "source": [
    "from icevision.all import *\n",
    "from fastai.callback.wandb import *\n",
    "from fastai.callback.tracker import SaveModelCallback"
   ]
  },
  {
   "cell_type": "code",
   "execution_count": null,
   "metadata": {
    "ExecuteTime": {
     "end_time": "2020-10-28T05:01:16.010157Z",
     "start_time": "2020-10-28T05:01:15.898522Z"
    }
   },
   "outputs": [],
   "source": [
    "from lib_pipeline_ice_config import *\n",
    "from lib_pipeline_ice_helper import *"
   ]
  },
  {
   "source": [
    "## Download WSI"
   ],
   "cell_type": "markdown",
   "metadata": {}
  },
  {
   "cell_type": "code",
   "execution_count": null,
   "metadata": {},
   "outputs": [],
   "source": [
    "# import urllib.request\n",
    "# import os\n",
    "# from tqdm import tqdm\n",
    "# import requests\n",
    "\n",
    "# downloadableFiles = {'WSI/MITOS_WSI_CCMCT_ODAEL.sqlite':\n",
    "#                           'https://ndownloader.figshare.com/files/16261571?private_link=a82ddb634864c24f4aee' ,                  \n",
    "#                      'WSI/9374efe6ac06388cc877.svs': # 26\n",
    "#                           'https://ndownloader.figshare.com/files/16261553?private_link=a82ddb634864c24f4aee',\n",
    "#                      'WSI/c3eb4b8382b470dd63a9.svs': # 4\n",
    "#                           'https://ndownloader.figshare.com/files/16261466?private_link=a82ddb634864c24f4aee',\n",
    "#                      'WSI/2e611073cff18d503cea.svs': # 32\n",
    "#                           'https://ndownloader.figshare.com/files/16261439?private_link=a82ddb634864c24f4aee',\n",
    "#                     }\n",
    "# # Create folder for WSI if nonexistant\n",
    "# if not os.path.isdir('WSI'):\n",
    "#     os.mkdir('WSI')\n",
    "\n",
    "# tqdm.write('Downloading all files from figshare - take a coffee and sit down, this may take awhile ...')  \n",
    "\n",
    "# from time import sleep    \n",
    "# sleep(0.5)\n",
    "                 \n",
    "# for fname in tqdm(list(downloadableFiles.keys())):\n",
    "#     urllib.request.urlretrieve(downloadableFiles[fname],fname)\n"
   ]
  },
  {
   "cell_type": "markdown",
   "metadata": {},
   "source": [
    "## Display Configuration Parameters (lib_pipeline_config.py)"
   ]
  },
  {
   "cell_type": "code",
   "execution_count": null,
   "metadata": {},
   "outputs": [],
   "source": [
    "#Display Config Parameters (edit file)\n",
    "with open('./lib_pipeline_ice_config.py') as f:\n",
    "    print(f.read())"
   ]
  },
  {
   "cell_type": "markdown",
   "metadata": {},
   "source": [
    "## Select Annotation Data from SlideRunner DB"
   ]
  },
  {
   "cell_type": "code",
   "execution_count": null,
   "metadata": {},
   "outputs": [],
   "source": [
    "slide_count = 0\n",
    "if slide_count > 0:\n",
    "    getslides = \"SELECT uid, filename FROM Slides LIMIT \" + str(slide_count)\n",
    "else:\n",
    "    getslides = \"SELECT uid, filename FROM Slides\"\n",
    "# print(getslides)"
   ]
  },
  {
   "cell_type": "code",
   "execution_count": null,
   "metadata": {},
   "outputs": [],
   "source": [
    "database = Database()\n",
    "print(str(pathDB/dbname))\n",
    "database.open(pathDB/dbname)"
   ]
  },
  {
   "cell_type": "code",
   "execution_count": null,
   "metadata": {},
   "outputs": [],
   "source": [
    "dir_slides = os.listdir(pathWSI)\n",
    "database_slides = [s[1] for s in database.execute(getslides).fetchall()]\n",
    "annotated_and_existing_slides = list(set(dir_slides) & set(database_slides))\n",
    "slide_list = \"', '\".join(map(str, annotated_and_existing_slides))\n",
    "\n",
    "train_slide_query = \"SELECT uid, filename FROM Slides WHERE filename IN ('\" + slide_list + \"')\"\n",
    "# print(train_slide_query)"
   ]
  },
  {
   "cell_type": "code",
   "execution_count": null,
   "metadata": {
    "ExecuteTime": {
     "end_time": "2020-10-28T05:01:37.159893Z",
     "start_time": "2020-10-28T05:01:37.144669Z"
    }
   },
   "outputs": [],
   "source": [
    "files_train, lbl_bbox_train = get_slide_annotations(database, params['size'], train_slide_query)"
   ]
  },
  {
   "cell_type": "markdown",
   "metadata": {},
   "source": [
    "## Randomize and Split Annotatation Data"
   ]
  },
  {
   "cell_type": "code",
   "execution_count": null,
   "metadata": {
    "ExecuteTime": {
     "end_time": "2020-10-28T05:01:51.048218Z",
     "start_time": "2020-10-28T05:01:51.025279Z"
    }
   },
   "outputs": [],
   "source": [
    "train_images = params['ds_size']\n",
    "# val_images = int(params['ds_size']*0.2)\n",
    "test_images = 16\n",
    "\n",
    "train_files = list(np.random.choice(files_train, train_images))\n",
    "# valid_files = list(np.random.choice(files_train, val_images))\n",
    "test_files = list(np.random.choice(files_train, test_images))\n",
    "print('train_files #:', len(train_files))\n",
    "print('train_files wdith:', train_files[0].width)"
   ]
  },
  {
   "cell_type": "code",
   "execution_count": null,
   "metadata": {},
   "outputs": [],
   "source": [
    "class_map = ClassMap(params['class_map'])"
   ]
  },
  {
   "cell_type": "code",
   "execution_count": null,
   "metadata": {},
   "outputs": [],
   "source": [
    "parser = SlideContainerParser(train_files)\n",
    "train_rs, valid_rs = parser.parse(autofix=True)"
   ]
  },
  {
   "cell_type": "code",
   "execution_count": null,
   "metadata": {},
   "outputs": [],
   "source": [
    "# print(len(train_rs))\n",
    "# print(len(valid_rs))\n",
    "# show_records(train_rs[:6], ncols=3, class_map=class_map)"
   ]
  },
  {
   "cell_type": "code",
   "execution_count": null,
   "metadata": {},
   "outputs": [],
   "source": [
    "# Transforms\n",
    "train_tfms = tfms.A.Adapter([*tfms.A.aug_tfms(size=params['size'], presize=params['size_trans']), tfms.A.Normalize()])\n",
    "valid_tfms = tfms.A.Adapter([*tfms.A.resize_and_pad(params['size']), tfms.A.Normalize()])"
   ]
  },
  {
   "cell_type": "code",
   "execution_count": null,
   "metadata": {},
   "outputs": [],
   "source": [
    "# Datasets\n",
    "train_ds = Dataset(train_rs, train_tfms)\n",
    "valid_ds = Dataset(valid_rs, valid_tfms)"
   ]
  },
  {
   "cell_type": "code",
   "execution_count": null,
   "metadata": {},
   "outputs": [],
   "source": [
    "# samples = [train_ds[0] for _ in range(3)]\n",
    "# show_samples(samples, ncols=3, class_map=class_map)"
   ]
  },
  {
   "cell_type": "code",
   "execution_count": null,
   "metadata": {},
   "outputs": [],
   "source": [
    "# DataLoaders\n",
    "train_dl = efficientdet.train_dl(train_ds, batch_size=params['batch_size'], num_workers=0, shuffle=True)\n",
    "valid_dl = efficientdet.valid_dl(valid_ds, batch_size=params['batch_size'], num_workers=0, shuffle=False)"
   ]
  },
  {
   "cell_type": "code",
   "execution_count": null,
   "metadata": {},
   "outputs": [],
   "source": [
    "train_dl.batch_size\n",
    "valid_dl.batch_size"
   ]
  },
  {
   "cell_type": "code",
   "execution_count": null,
   "metadata": {},
   "outputs": [],
   "source": [
    "# batch, samples = first(train_dl)\n",
    "# show_samples(samples[:6], class_map=class_map, ncols=3)"
   ]
  },
  {
   "cell_type": "markdown",
   "metadata": {
    "ExecuteTime": {
     "end_time": "2020-10-28T05:04:51.069071Z",
     "start_time": "2020-10-28T05:04:50.807611Z"
    }
   },
   "source": [
    "## Model & Parameters Setup"
   ]
  },
  {
   "cell_type": "code",
   "execution_count": null,
   "metadata": {},
   "outputs": [],
   "source": [
    "if params['size_progresize'] > 0:\n",
    "    patchsize = str(params['size_progresize'])\n",
    "else:\n",
    "    patchsize = str(params['size'])\n",
    "\n",
    "params['epochs1'] = 15\n",
    "params['lr1'] =3e-3\n",
    "params['epochs2'] = 10\n",
    "params['lr2'] = 3e-5\n",
    "params['wandb'] = False\n",
    "\n",
    "params['Run-Notes'] = 'Progressive Resize = False; Running multiples of 256 with 500, 2000, 5000 patches; Finding best EffDet backbone'\n",
    "params.update(wandb_run_name = params['modelclass'] + '-' + params['model'] + '_' + str(len(params['class_map'])-1) +'cls_' + patchsize + 'px_' + str(params['ds_size']) + 'ds_' + str(params['run']) +'_'+ params['run_datetime'])\n",
    "params.update(model_save_name = params['modelclass'] + '-' + params['model'] + '_' + str(len(params['class_map'])-1) +'cls_' + patchsize + 'px_' + str(params['ds_size']) + 'ds_' + str(params['run']) +'_'+ params['run_datetime'])"
   ]
  },
  {
   "cell_type": "code",
   "execution_count": null,
   "metadata": {},
   "outputs": [],
   "source": [
    "#EfficentDet\n",
    "#Backbones - Edit model in Config file\n",
    "# tf_efficientdet_lite0, efficientdet_d0, efficientdet_d1, efficientdet_d2, efficientdet_d3, efficientdet_d4, \n",
    "# efficientdet_d5, efficientdet_d6, efficientdet_d7, efficientdet_d7x\n",
    "\n",
    "model = efficientdet.model(model_name=params['model'], \n",
    "                           num_classes=len(params['class_map']), \n",
    "                           img_size=params['size'])"
   ]
  },
  {
   "cell_type": "code",
   "execution_count": null,
   "metadata": {},
   "outputs": [],
   "source": [
    "metrics = [COCOMetric(metric_type=COCOMetricType.bbox)]"
   ]
  },
  {
   "cell_type": "code",
   "execution_count": null,
   "metadata": {},
   "outputs": [],
   "source": [
    "if (params['wandb']==True): \n",
    "    WANDB_NOTEBOOK_NAME = 'gs_SlidetoIcePipeline01_EffDet.ipynb'\n",
    "    wandb.init(project=params['project'], name=params['wandb_run_name'], config=params)\n",
    "    config = wandb.config"
   ]
  },
  {
   "cell_type": "code",
   "execution_count": null,
   "metadata": {},
   "outputs": [],
   "source": [
    "if (params['wandb']==True): \n",
    "    callbacks = [WandbCallback(log_preds=True, log_dataset=False, log_model=False)]\n",
    "else: \n",
    "    callbacks = []"
   ]
  },
  {
   "cell_type": "code",
   "execution_count": null,
   "metadata": {
    "ExecuteTime": {
     "end_time": "2020-10-28T05:04:53.590842Z",
     "start_time": "2020-10-28T05:04:53.568048Z"
    }
   },
   "outputs": [],
   "source": [
    "learn = efficientdet.fastai.learner(dls=[train_dl, valid_dl], cbs = callbacks, model=model, metrics=metrics)"
   ]
  },
  {
   "cell_type": "markdown",
   "metadata": {},
   "source": [
    "## Model Training"
   ]
  },
  {
   "cell_type": "code",
   "execution_count": null,
   "metadata": {},
   "outputs": [],
   "source": [
    "# learn.split([model.encoder[6], model.c5top5])\n",
    "# learn.freeze_to(-2)"
   ]
  },
  {
   "cell_type": "code",
   "execution_count": null,
   "metadata": {
    "ExecuteTime": {
     "end_time": "2020-10-28T05:05:33.064889Z",
     "start_time": "2020-10-28T05:05:25.562137Z"
    }
   },
   "outputs": [],
   "source": [
    "learn.freeze()\n",
    "# learn.lr_find()"
   ]
  },
  {
   "cell_type": "code",
   "execution_count": null,
   "metadata": {},
   "outputs": [],
   "source": [
    "params.update(lr1 = 1e-3)\n",
    "params.update (epochs1 = 15)\n",
    "\n",
    "learn.fit_one_cycle(params['epochs1'], params['lr1'], cbs=SaveModelCallback())"
   ]
  },
  {
   "cell_type": "code",
   "execution_count": null,
   "metadata": {},
   "outputs": [],
   "source": [
    "params.update(current_saved_model='stage-1-' + str(params['size']) + 'px-' + params['model'])\n",
    "print(params['current_saved_model'])\n",
    "learn.save(params['current_saved_model'])\n",
    "# wandb.log(params)"
   ]
  },
  {
   "cell_type": "code",
   "execution_count": null,
   "metadata": {},
   "outputs": [],
   "source": [
    "learn.freeze()\n",
    "learn.lr_find()"
   ]
  },
  {
   "cell_type": "code",
   "execution_count": null,
   "metadata": {},
   "outputs": [],
   "source": [
    "%matplotlib inline\n",
    "params.update(lr1 = 7e-6)\n",
    "params.update (epochs1 = 10)\n",
    "# wandb.log({'lr1': params['lr1'], 'epochs': params['epochs1']})\n",
    "\n",
    "learn.fit_one_cycle(params['epochs1'], params['lr1'])"
   ]
  },
  {
   "cell_type": "code",
   "execution_count": null,
   "metadata": {},
   "outputs": [],
   "source": [
    "params.update(current_saved_model='stage-2-' + str(params['size']) + 'px-' + params['model'])\n",
    "print(params['current_saved_model'])\n",
    "learn.save(params['current_saved_model'])\n",
    "# wandb.log(params)"
   ]
  },
  {
   "cell_type": "markdown",
   "metadata": {},
   "source": [
    "## Review Model Run"
   ]
  },
  {
   "cell_type": "code",
   "execution_count": null,
   "metadata": {
    "ExecuteTime": {
     "end_time": "2020-10-28T05:06:52.007484Z",
     "start_time": "2020-10-28T05:06:51.504281Z"
    }
   },
   "outputs": [],
   "source": [
    "efficientdet.show_results(model, train_ds, class_map=class_map)"
   ]
  },
  {
   "cell_type": "code",
   "execution_count": null,
   "metadata": {},
   "outputs": [],
   "source": [
    "valid_test_dl = efficientdet.infer_dl(valid_ds, batch_size=params['batch_size'])\n",
    "samples, preds = efficientdet.predict_dl(model, valid_test_dl)"
   ]
  },
  {
   "cell_type": "code",
   "execution_count": null,
   "metadata": {},
   "outputs": [],
   "source": [
    "# class_map = ClassMap(params['class_map'])"
   ]
  },
  {
   "cell_type": "code",
   "execution_count": null,
   "metadata": {},
   "outputs": [],
   "source": [
    "if (params['wandb']==True): \n",
    "#     wandb_images = wandb_img_preds(samples, preds, class_map, add_ground_truth=True) \n",
    "#     wandb.log({\"Validation Images Prediction-\" + str(size_trans) + \"px\": wandb_images})\n",
    "    wandb.join()"
   ]
  },
  {
   "cell_type": "markdown",
   "metadata": {},
   "source": [
    "## Export Model/Weights"
   ]
  },
  {
   "cell_type": "code",
   "execution_count": null,
   "metadata": {},
   "outputs": [],
   "source": [
    "model_folder = params['model_save_name']\n",
    "path_model = Path(path/'models'/model_folder)\n",
    "path_model_str = str(path_model) #needed for os folder creations"
   ]
  },
  {
   "cell_type": "code",
   "execution_count": null,
   "metadata": {},
   "outputs": [],
   "source": [
    "if os.path.exists(path_model_str):\n",
    "   shutil.rmtree(path_model_str)\n",
    "if not os.path.exists(path_model_str):\n",
    "    print(path_model_str)\n",
    "    os.mkdir(path_model_str)"
   ]
  },
  {
   "cell_type": "code",
   "execution_count": null,
   "metadata": {},
   "outputs": [],
   "source": [
    "#Save model weights\n",
    "model_saved = params['model_save_name'] + '.pth'\n",
    "# torch.save(model.state_dict(), data_dir/'mitosis_tf_efficientdet_lite0.pth')\n",
    "torch.save(model.state_dict(), path_model/model_saved)"
   ]
  },
  {
   "cell_type": "code",
   "execution_count": null,
   "metadata": {},
   "outputs": [],
   "source": [
    "print(path_model/model_saved)\n",
    "params['size']"
   ]
  },
  {
   "cell_type": "markdown",
   "metadata": {},
   "source": [
    "## Test Predictions from Exported Model"
   ]
  },
  {
   "cell_type": "code",
   "execution_count": null,
   "metadata": {},
   "outputs": [],
   "source": [
    "model2 = efficientdet.model(model_name=params['model'], \n",
    "                           num_classes=len(params['class_map']), \n",
    "                           img_size=params['size'])\n",
    "state_dict = torch.load(path_model/model_saved)\n",
    "model2.load_state_dict(state_dict)"
   ]
  },
  {
   "cell_type": "code",
   "execution_count": null,
   "metadata": {},
   "outputs": [],
   "source": [
    "# valid_test_dl = efficientdet.infer_dl(valid_ds, batch_size=params['batch_size'])\n",
    "# samples, preds = efficientdet.predict_dl(model, valid_test_dl)"
   ]
  },
  {
   "cell_type": "code",
   "execution_count": null,
   "metadata": {},
   "outputs": [],
   "source": [
    "efficientdet.show_results(model2, test_rs, class_map=class_map)"
   ]
  },
  {
   "cell_type": "code",
   "execution_count": null,
   "metadata": {},
   "outputs": [],
   "source": []
  }
 ],
 "metadata": {
  "kernelspec": {
   "name": "python3",
   "display_name": "Python 3.7.9 64-bit ('icevision': conda)",
   "metadata": {
    "interpreter": {
     "hash": "d8fe640f642db885b6ebf1c3e4eaf9d66957e42638e9703c25272b70f72f69df"
    }
   }
  },
  "language_info": {
   "codemirror_mode": {
    "name": "ipython",
    "version": 3
   },
   "file_extension": ".py",
   "mimetype": "text/x-python",
   "name": "python",
   "nbconvert_exporter": "python",
   "pygments_lexer": "ipython3",
   "version": "3.7.9-final"
  },
  "toc": {
   "base_numbering": 1,
   "nav_menu": {},
   "number_sections": false,
   "sideBar": true,
   "skip_h1_title": false,
   "title_cell": "Table of Contents",
   "title_sidebar": "Contents",
   "toc_cell": false,
   "toc_position": {},
   "toc_section_display": true,
   "toc_window_display": false
  }
 },
 "nbformat": 4,
 "nbformat_minor": 4
}